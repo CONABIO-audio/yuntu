{
 "cells": [
  {
   "cell_type": "code",
   "execution_count": 1,
   "metadata": {},
   "outputs": [],
   "source": [
    "import sys\n",
    "sys.path.insert(0, '../')"
   ]
  },
  {
   "cell_type": "markdown",
   "metadata": {},
   "source": [
    "# Datastores"
   ]
  },
  {
   "cell_type": "code",
   "execution_count": 2,
   "metadata": {},
   "outputs": [],
   "source": [
    "import json\n",
    "import os\n",
    "\n",
    "from yuntu.datastore.base import Datastore\n",
    "from yuntu.collection.base import Collection\n",
    "from yuntu.core.annotation.annotation import Annotation"
   ]
  },
  {
   "cell_type": "code",
   "execution_count": 3,
   "metadata": {},
   "outputs": [],
   "source": [
    "HOST = '<your_database_host>'\n",
    "DATABASE = '<database_name>'\n",
    "COLLECTION = '<collection_name>'\n",
    "PATH_FIELD = '<field_with_path_information>'\n",
    "\n",
    "DATASET = os.path.join(os.getcwd(), 'dataset.sqlite')\n",
    "LABELLING_FILE = './formated_labelling_structure.json'"
   ]
  },
  {
   "cell_type": "markdown",
   "metadata": {},
   "source": [
    "#### Annotation utils"
   ]
  },
  {
   "cell_type": "code",
   "execution_count": 4,
   "metadata": {},
   "outputs": [],
   "source": [
    "def get_labelling_structure():\n",
    "    with open(LABELLING_FILE, 'r') as jsonfile:\n",
    "        return json.load(jsonfile)"
   ]
  },
  {
   "cell_type": "markdown",
   "metadata": {},
   "source": [
    "## Datastore definition"
   ]
  },
  {
   "cell_type": "code",
   "execution_count": 5,
   "metadata": {},
   "outputs": [],
   "source": [
    "from pymongo import MongoClient\n",
    "from tqdm.notebook import tqdm\n",
    "\n",
    "\n",
    "class LibChiroptera(Datastore):\n",
    "    def __init__(self, base_dir=None):\n",
    "        if base_dir is not None:\n",
    "            self.base_dir = base_dir\n",
    "\n",
    "        client = MongoClient(HOST)\n",
    "        self.cursor = client[DATABASE][COLLECTION]\n",
    "        self.labelling_structure = get_labelling_structure()\n",
    "        self.query = {\n",
    "            \"notes\": {\"$not\": {\"$size\": 0}},\n",
    "            \"mexican_species\": True,\n",
    "            \"media_collection\": {\"$ne\": \"UNAM-ULM\"}\n",
    "        }\n",
    "        self.projection = {\n",
    "            \"lustre_path\": 1,\n",
    "            \"origmd\": 1,\n",
    "            \"notes_size\": 1,\n",
    "            \"media_collection\": 1,\n",
    "            \"timeexp\": 1,\n",
    "            \"geom\": 1,\n",
    "            \"md5\": 1,\n",
    "            \"ready\": 1,\n",
    "            \"species\": 1,\n",
    "            \"country\": 1,\n",
    "            \"meta_id\": 1,\n",
    "            \"former_species\": 1,\n",
    "            \"owner\": 1,\n",
    "            \"media_info\": 1,\n",
    "            \"notes\": 1,\n",
    "            \"geom\": 1\n",
    "        }\n",
    "\n",
    "    def iter(self):\n",
    "        total = self.cursor.count_documents(self.query)\n",
    "        query = self.cursor.find(self.query, self.projection)\n",
    "        for document in tqdm(query, total=total):\n",
    "            samplerate = document['media_info']['samplerate']\n",
    "            timeexp = document['timeexp']\n",
    "            if samplerate * timeexp < 50000:\n",
    "                continue\n",
    "\n",
    "            yield document\n",
    "\n",
    "    def iter_annotations(self, datum):\n",
    "        for note in datum['notes']:\n",
    "            if 'line' not in note['noteType']:\n",
    "                continue\n",
    "\n",
    "            yield note\n",
    "\n",
    "    def prepare_datum(self, datum):\n",
    "        path = os.path.basename(datum.get(PATH_FIELD)[1:])\n",
    "        document_id = str(datum.get('_id'))\n",
    "        hash_str = datum.get('md5')\n",
    "        timeexp = datum.get('timeexp')\n",
    "        spectrum = 'ultrasonic'\n",
    "        media_info = datum.get('media_info')\n",
    "\n",
    "        datum['_id'] = str(datum['_id'])\n",
    "        datum['meta_id'] = str(datum['meta_id'])\n",
    "\n",
    "        if 'parent_id' in datum:\n",
    "            datum['parent_id'] = str(datum['parent_id'])\n",
    "\n",
    "        if 'user' in datum['origmd']:\n",
    "            datum['origmd']['user']['_id'] = str(datum['origmd']['user']['_id'])\n",
    "\n",
    "        return {\n",
    "            'path': path,\n",
    "            'hash': hash_str,\n",
    "            'timeexp': float(timeexp),\n",
    "            'spectrum': spectrum,\n",
    "            'media_info': media_info,\n",
    "            'metadata': datum\n",
    "        }\n",
    "\n",
    "    def prepare_annotation(self, datum, annotation):\n",
    "        timeexp = datum['timeexp']\n",
    "        species = annotation[\"species\"]\n",
    "        vertices = [\n",
    "            [x[0] / timeexp, 1000 * x[1] * timeexp]\n",
    "            for x in annotation[\"rverts\"]]\n",
    "        wkt = 'LINESTRING(%s)' % ','.join([f'{x[0]} {x[1]}' for x in vertices])\n",
    "\n",
    "        return {\n",
    "            \"labels\": self.labelling_structure[species],\n",
    "            \"type\": Annotation.Types.LINESTRING.value,\n",
    "            \"start_time\": annotation[\"startTime\"] / timeexp,\n",
    "            \"end_time\": annotation[\"endTime\"] / timeexp,\n",
    "            \"max_freq\": annotation[\"maxFreq\"] * timeexp,\n",
    "            \"min_freq\": annotation[\"minFreq\"] * timeexp,\n",
    "            \"geometry\": wkt,\n",
    "            \"metadata\": annotation\n",
    "        }"
   ]
  },
  {
   "cell_type": "markdown",
   "metadata": {},
   "source": [
    "# Collections"
   ]
  },
  {
   "cell_type": "markdown",
   "metadata": {},
   "source": [
    "### Create a new collection"
   ]
  },
  {
   "cell_type": "code",
   "execution_count": 4,
   "metadata": {},
   "outputs": [],
   "source": [
    "db_config = {\n",
    "    'provider': 'sqlite',\n",
    "    'config': {\n",
    "        'filename': DATASET,\n",
    "        'create_db': True\n",
    "    }\n",
    "}"
   ]
  },
  {
   "cell_type": "code",
   "execution_count": 5,
   "metadata": {},
   "outputs": [],
   "source": [
    "collection = Collection(db_config)"
   ]
  },
  {
   "cell_type": "markdown",
   "metadata": {},
   "source": [
    "### Create the datastore"
   ]
  },
  {
   "cell_type": "markdown",
   "metadata": {},
   "source": [
    "Suppose the files are mounted at"
   ]
  },
  {
   "cell_type": "code",
   "execution_count": 4,
   "metadata": {},
   "outputs": [],
   "source": [
    "MOUNT_DIR = os.path.expanduser('~/mount/')"
   ]
  },
  {
   "cell_type": "code",
   "execution_count": 5,
   "metadata": {},
   "outputs": [
    {
     "ename": "NameError",
     "evalue": "name 'LibChiroptera' is not defined",
     "output_type": "error",
     "traceback": [
      "\u001b[0;31m---------------------------------------------------------------------------\u001b[0m",
      "\u001b[0;31mNameError\u001b[0m                                 Traceback (most recent call last)",
      "\u001b[0;32m<ipython-input-5-7c8620c3855d>\u001b[0m in \u001b[0;36m<module>\u001b[0;34m\u001b[0m\n\u001b[0;32m----> 1\u001b[0;31m \u001b[0mdatastore\u001b[0m \u001b[0;34m=\u001b[0m \u001b[0mLibChiroptera\u001b[0m\u001b[0;34m(\u001b[0m\u001b[0mbase_dir\u001b[0m\u001b[0;34m=\u001b[0m\u001b[0mMOUNT_DIR\u001b[0m\u001b[0;34m)\u001b[0m\u001b[0;34m\u001b[0m\u001b[0;34m\u001b[0m\u001b[0m\n\u001b[0m",
      "\u001b[0;31mNameError\u001b[0m: name 'LibChiroptera' is not defined"
     ]
    }
   ],
   "source": [
    "datastore = LibChiroptera(base_dir=MOUNT_DIR)"
   ]
  },
  {
   "cell_type": "markdown",
   "metadata": {},
   "source": [
    "### Insert into collection"
   ]
  },
  {
   "cell_type": "code",
   "execution_count": 10,
   "metadata": {},
   "outputs": [
    {
     "data": {
      "application/vnd.jupyter.widget-view+json": {
       "model_id": "b9ed80d54fc347f99b889d770e54e00a",
       "version_major": 2,
       "version_minor": 0
      },
      "text/plain": [
       "HBox(children=(FloatProgress(value=0.0, max=3069.0), HTML(value='')))"
      ]
     },
     "metadata": {},
     "output_type": "display_data"
    },
    {
     "name": "stdout",
     "output_type": "stream",
     "text": [
      "\n"
     ]
    }
   ],
   "source": [
    "datastore.insert_into(collection)"
   ]
  },
  {
   "cell_type": "markdown",
   "metadata": {},
   "source": [
    "### Get a single recording"
   ]
  },
  {
   "cell_type": "code",
   "execution_count": 8,
   "metadata": {},
   "outputs": [],
   "source": [
    "audio = collection.get(1)"
   ]
  },
  {
   "cell_type": "markdown",
   "metadata": {},
   "source": [
    "#### Check its annotations"
   ]
  },
  {
   "cell_type": "code",
   "execution_count": 9,
   "metadata": {},
   "outputs": [
    {
     "data": {
      "text/plain": [
       "<matplotlib.axes._subplots.AxesSubplot at 0x7fa9f13fbe10>"
      ]
     },
     "execution_count": 9,
     "metadata": {},
     "output_type": "execute_result"
    },
    {
     "data": {
      "image/png": "[encoded data removed]",
      "text/plain": [
       "<Figure size 1080x360 with 1 Axes>"
      ]
     },
     "metadata": {
      "needs_background": "light"
     },
     "output_type": "display_data"
    }
   ],
   "source": [
    "audio.annotations.plot(label=True, key='species')"
   ]
  },
  {
   "cell_type": "code",
   "execution_count": 10,
   "metadata": {},
   "outputs": [],
   "source": [
    "annotation = audio.annotations[0]"
   ]
  },
  {
   "cell_type": "code",
   "execution_count": 11,
   "metadata": {},
   "outputs": [
    {
     "data": {
      "text/plain": [
       "<matplotlib.axes._subplots.AxesSubplot at 0x7fa9e0b8e590>"
      ]
     },
     "execution_count": 11,
     "metadata": {},
     "output_type": "execute_result"
    },
    {
     "data": {
      "image/png": "[encoded data removed]",
      "text/plain": [
       "<Figure size 720x720 with 1 Axes>"
      ]
     },
     "metadata": {
      "needs_background": "light"
     },
     "output_type": "display_data"
    }
   ],
   "source": [
    "annotation.plot(label=True)"
   ]
  },
  {
   "cell_type": "markdown",
   "metadata": {},
   "source": [
    "#### Cast annotation into other annotation types"
   ]
  },
  {
   "cell_type": "code",
   "execution_count": 15,
   "metadata": {},
   "outputs": [
    {
     "data": {
      "text/plain": [
       "<matplotlib.axes._subplots.AxesSubplot at 0x7fbaede71fd0>"
      ]
     },
     "execution_count": 15,
     "metadata": {},
     "output_type": "execute_result"
    },
    {
     "data": {
      "image/png": "[encoded data removed]",
      "text/plain": [
       "<Figure size 720x720 with 1 Axes>"
      ]
     },
     "metadata": {
      "needs_background": "light"
     },
     "output_type": "display_data"
    }
   ],
   "source": [
    "ax = annotation.plot(color='black', linestyle='-')\n",
    "annotation.buffer(time=0.005, freq=100).plot(ax=ax, color='green', alpha=0.1)\n",
    "annotation.to_time_interval().plot(ax=ax)\n",
    "annotation.to_time_interval().to_center_line().plot(ax=ax, color='red')\n",
    "annotation.to_time_interval().to_center_line().buffer(time=0.005).plot(ax=ax, color='blue', alpha=0.1)"
   ]
  },
  {
   "cell_type": "markdown",
   "metadata": {},
   "source": [
    "### Recordings Dataframe"
   ]
  },
  {
   "cell_type": "code",
   "execution_count": 4,
   "metadata": {},
   "outputs": [],
   "source": [
    "db_config = {\n",
    "    'provider': 'sqlite',\n",
    "    'config': {\n",
    "        'filename': DATASET,\n",
    "        'create_db': True\n",
    "    }\n",
    "}\n",
    "collection = Collection(db_config)"
   ]
  },
  {
   "cell_type": "code",
   "execution_count": 5,
   "metadata": {},
   "outputs": [],
   "source": [
    "df = collection.get_recording_dataframe(limit=10)"
   ]
  },
  {
   "cell_type": "code",
   "execution_count": 6,
   "metadata": {},
   "outputs": [
    {
     "data": {
      "text/plain": [
       "[Audio(path='/Users/erobredo/mount/5aa403e95d5b148aa6138945.WAV', duration=1.2809666666666666, samplerate=300000),\n",
       " Audio(path='/Users/erobredo/mount/5aa403e95d5b148aa6138946.WAV', duration=4.525596666666667, samplerate=300000),\n",
       " Audio(path='/Users/erobredo/mount/5aa403e95d5b148aa6138947.WAV', duration=5.08356, samplerate=300000)]"
      ]
     },
     "execution_count": 6,
     "metadata": {},
     "output_type": "execute_result"
    }
   ],
   "source": [
    "df.audio[:3]"
   ]
  },
  {
   "cell_type": "code",
   "execution_count": 7,
   "metadata": {},
   "outputs": [],
   "source": [
    "ann = collection.get_annotation_dataframe(limit=10)"
   ]
  },
  {
   "cell_type": "code",
   "execution_count": 8,
   "metadata": {},
   "outputs": [
    {
     "data": {
      "text/html": [
       "<div>\n",
       "<style scoped>\n",
       "    .dataframe tbody tr th:only-of-type {\n",
       "        vertical-align: middle;\n",
       "    }\n",
       "\n",
       "    .dataframe tbody tr th {\n",
       "        vertical-align: top;\n",
       "    }\n",
       "\n",
       "    .dataframe thead th {\n",
       "        text-align: right;\n",
       "    }\n",
       "</style>\n",
       "<table border=\"1\" class=\"dataframe\">\n",
       "  <thead>\n",
       "    <tr style=\"text-align: right;\">\n",
       "      <th></th>\n",
       "      <th>id</th>\n",
       "      <th>recording</th>\n",
       "      <th>type</th>\n",
       "      <th>metadata</th>\n",
       "      <th>start_time</th>\n",
       "      <th>end_time</th>\n",
       "      <th>max_freq</th>\n",
       "      <th>min_freq</th>\n",
       "      <th>geometry</th>\n",
       "      <th>labels</th>\n",
       "      <th>...</th>\n",
       "      <th>Denzinger_Schnitzler_2013</th>\n",
       "      <th>Kalko_et_al_1996</th>\n",
       "      <th>Fenton_1990</th>\n",
       "      <th>family</th>\n",
       "      <th>habitat_structure</th>\n",
       "      <th>perception</th>\n",
       "      <th>resource_behaviour</th>\n",
       "      <th>diet</th>\n",
       "      <th>genus</th>\n",
       "      <th>species</th>\n",
       "    </tr>\n",
       "  </thead>\n",
       "  <tbody>\n",
       "    <tr>\n",
       "      <th>0</th>\n",
       "      <td>1</td>\n",
       "      <td>1</td>\n",
       "      <td>LineStringAnnotation</td>\n",
       "      <td>{'actDate': '01-12-2018,00:49:30', 'author': '...</td>\n",
       "      <td>1.097331</td>\n",
       "      <td>1.100885</td>\n",
       "      <td>83.463035</td>\n",
       "      <td>40.272374</td>\n",
       "      <td>LINESTRING(1.0973310864708397 83463.0350194552...</td>\n",
       "      <td>[{'key': 'class', 'type': 'taxonomic', 'value'...</td>\n",
       "      <td>...</td>\n",
       "      <td>2.0</td>\n",
       "      <td>2.0</td>\n",
       "      <td>2.0</td>\n",
       "      <td>Vespertilionidae</td>\n",
       "      <td>background cluttered</td>\n",
       "      <td>active</td>\n",
       "      <td>aerial</td>\n",
       "      <td>insectivore</td>\n",
       "      <td>Myotis</td>\n",
       "      <td>Myotis californicus</td>\n",
       "    </tr>\n",
       "    <tr>\n",
       "      <th>1</th>\n",
       "      <td>2</td>\n",
       "      <td>1</td>\n",
       "      <td>LineStringAnnotation</td>\n",
       "      <td>{'actDate': '01-12-2018,00:43:40', 'author': '...</td>\n",
       "      <td>0.216231</td>\n",
       "      <td>0.219603</td>\n",
       "      <td>86.964981</td>\n",
       "      <td>39.105058</td>\n",
       "      <td>LINESTRING(0.2162308619422162 86964.9805447470...</td>\n",
       "      <td>[{'key': 'class', 'type': 'taxonomic', 'value'...</td>\n",
       "      <td>...</td>\n",
       "      <td>2.0</td>\n",
       "      <td>2.0</td>\n",
       "      <td>2.0</td>\n",
       "      <td>Vespertilionidae</td>\n",
       "      <td>background cluttered</td>\n",
       "      <td>active</td>\n",
       "      <td>aerial</td>\n",
       "      <td>insectivore</td>\n",
       "      <td>Myotis</td>\n",
       "      <td>Myotis californicus</td>\n",
       "    </tr>\n",
       "    <tr>\n",
       "      <th>2</th>\n",
       "      <td>3</td>\n",
       "      <td>1</td>\n",
       "      <td>LineStringAnnotation</td>\n",
       "      <td>{'actDate': '01-12-2018,00:45:45', 'author': '...</td>\n",
       "      <td>0.680178</td>\n",
       "      <td>0.683607</td>\n",
       "      <td>81.712062</td>\n",
       "      <td>39.105058</td>\n",
       "      <td>LINESTRING(0.680178045385667 81712.06225680932...</td>\n",
       "      <td>[{'key': 'class', 'type': 'taxonomic', 'value'...</td>\n",
       "      <td>...</td>\n",
       "      <td>2.0</td>\n",
       "      <td>2.0</td>\n",
       "      <td>2.0</td>\n",
       "      <td>Vespertilionidae</td>\n",
       "      <td>background cluttered</td>\n",
       "      <td>active</td>\n",
       "      <td>aerial</td>\n",
       "      <td>insectivore</td>\n",
       "      <td>Myotis</td>\n",
       "      <td>Myotis californicus</td>\n",
       "    </tr>\n",
       "    <tr>\n",
       "      <th>3</th>\n",
       "      <td>4</td>\n",
       "      <td>1</td>\n",
       "      <td>LineStringAnnotation</td>\n",
       "      <td>{'actDate': '01-12-2018,00:44:44', 'author': '...</td>\n",
       "      <td>0.317409</td>\n",
       "      <td>0.320667</td>\n",
       "      <td>81.712062</td>\n",
       "      <td>39.105058</td>\n",
       "      <td>LINESTRING(0.31740897494586856 81712.062256809...</td>\n",
       "      <td>[{'key': 'class', 'type': 'taxonomic', 'value'...</td>\n",
       "      <td>...</td>\n",
       "      <td>2.0</td>\n",
       "      <td>2.0</td>\n",
       "      <td>2.0</td>\n",
       "      <td>Vespertilionidae</td>\n",
       "      <td>background cluttered</td>\n",
       "      <td>active</td>\n",
       "      <td>aerial</td>\n",
       "      <td>insectivore</td>\n",
       "      <td>Myotis</td>\n",
       "      <td>Myotis californicus</td>\n",
       "    </tr>\n",
       "    <tr>\n",
       "      <th>4</th>\n",
       "      <td>5</td>\n",
       "      <td>1</td>\n",
       "      <td>LineStringAnnotation</td>\n",
       "      <td>{'actDate': '01-12-2018,00:44:24', 'author': '...</td>\n",
       "      <td>0.005893</td>\n",
       "      <td>0.008606</td>\n",
       "      <td>88.132296</td>\n",
       "      <td>41.439689</td>\n",
       "      <td>LINESTRING(0.005892688153242415 88132.29571984...</td>\n",
       "      <td>[{'key': 'class', 'type': 'taxonomic', 'value'...</td>\n",
       "      <td>...</td>\n",
       "      <td>2.0</td>\n",
       "      <td>2.0</td>\n",
       "      <td>2.0</td>\n",
       "      <td>Vespertilionidae</td>\n",
       "      <td>background cluttered</td>\n",
       "      <td>active</td>\n",
       "      <td>aerial</td>\n",
       "      <td>insectivore</td>\n",
       "      <td>Myotis</td>\n",
       "      <td>Myotis californicus</td>\n",
       "    </tr>\n",
       "    <tr>\n",
       "      <th>5</th>\n",
       "      <td>6</td>\n",
       "      <td>1</td>\n",
       "      <td>LineStringAnnotation</td>\n",
       "      <td>{'actDate': '01-12-2018,00:44:03', 'author': '...</td>\n",
       "      <td>0.093439</td>\n",
       "      <td>0.096467</td>\n",
       "      <td>87.548638</td>\n",
       "      <td>41.439689</td>\n",
       "      <td>LINESTRING(0.09343909185617098 87548.638132295...</td>\n",
       "      <td>[{'key': 'class', 'type': 'taxonomic', 'value'...</td>\n",
       "      <td>...</td>\n",
       "      <td>2.0</td>\n",
       "      <td>2.0</td>\n",
       "      <td>2.0</td>\n",
       "      <td>Vespertilionidae</td>\n",
       "      <td>background cluttered</td>\n",
       "      <td>active</td>\n",
       "      <td>aerial</td>\n",
       "      <td>insectivore</td>\n",
       "      <td>Myotis</td>\n",
       "      <td>Myotis californicus</td>\n",
       "    </tr>\n",
       "    <tr>\n",
       "      <th>6</th>\n",
       "      <td>7</td>\n",
       "      <td>1</td>\n",
       "      <td>LineStringAnnotation</td>\n",
       "      <td>{'actDate': '01-12-2018,00:47:27', 'author': '...</td>\n",
       "      <td>0.928274</td>\n",
       "      <td>0.931572</td>\n",
       "      <td>81.712062</td>\n",
       "      <td>40.272374</td>\n",
       "      <td>LINESTRING(0.9282737972568676 81712.0622568093...</td>\n",
       "      <td>[{'key': 'class', 'type': 'taxonomic', 'value'...</td>\n",
       "      <td>...</td>\n",
       "      <td>2.0</td>\n",
       "      <td>2.0</td>\n",
       "      <td>2.0</td>\n",
       "      <td>Vespertilionidae</td>\n",
       "      <td>background cluttered</td>\n",
       "      <td>active</td>\n",
       "      <td>aerial</td>\n",
       "      <td>insectivore</td>\n",
       "      <td>Myotis</td>\n",
       "      <td>Myotis californicus</td>\n",
       "    </tr>\n",
       "    <tr>\n",
       "      <th>7</th>\n",
       "      <td>8</td>\n",
       "      <td>1</td>\n",
       "      <td>LineStringAnnotation</td>\n",
       "      <td>{'actDate': '01-12-2018,00:48:40', 'author': '...</td>\n",
       "      <td>1.000732</td>\n",
       "      <td>1.004110</td>\n",
       "      <td>81.128405</td>\n",
       "      <td>40.272374</td>\n",
       "      <td>LINESTRING(1.000732253856316 81128.4046692607,...</td>\n",
       "      <td>[{'key': 'class', 'type': 'taxonomic', 'value'...</td>\n",
       "      <td>...</td>\n",
       "      <td>2.0</td>\n",
       "      <td>2.0</td>\n",
       "      <td>2.0</td>\n",
       "      <td>Vespertilionidae</td>\n",
       "      <td>background cluttered</td>\n",
       "      <td>active</td>\n",
       "      <td>aerial</td>\n",
       "      <td>insectivore</td>\n",
       "      <td>Myotis</td>\n",
       "      <td>Myotis californicus</td>\n",
       "    </tr>\n",
       "    <tr>\n",
       "      <th>8</th>\n",
       "      <td>9</td>\n",
       "      <td>1</td>\n",
       "      <td>LineStringAnnotation</td>\n",
       "      <td>{'actDate': '01-12-2018,00:45:03', 'author': '...</td>\n",
       "      <td>0.520109</td>\n",
       "      <td>0.522556</td>\n",
       "      <td>74.124514</td>\n",
       "      <td>39.688716</td>\n",
       "      <td>LINESTRING(0.5201091326777508 74124.5136186770...</td>\n",
       "      <td>[{'key': 'class', 'type': 'taxonomic', 'value'...</td>\n",
       "      <td>...</td>\n",
       "      <td>2.0</td>\n",
       "      <td>2.0</td>\n",
       "      <td>2.0</td>\n",
       "      <td>Vespertilionidae</td>\n",
       "      <td>background cluttered</td>\n",
       "      <td>active</td>\n",
       "      <td>aerial</td>\n",
       "      <td>insectivore</td>\n",
       "      <td>Myotis</td>\n",
       "      <td>Myotis californicus</td>\n",
       "    </tr>\n",
       "    <tr>\n",
       "      <th>9</th>\n",
       "      <td>10</td>\n",
       "      <td>1</td>\n",
       "      <td>LineStringAnnotation</td>\n",
       "      <td>{'actDate': '01-12-2018,00:46:04', 'author': '...</td>\n",
       "      <td>0.719162</td>\n",
       "      <td>0.722503</td>\n",
       "      <td>85.797665</td>\n",
       "      <td>40.856031</td>\n",
       "      <td>LINESTRING(0.7191622058245645 85797.6653696498...</td>\n",
       "      <td>[{'key': 'class', 'type': 'taxonomic', 'value'...</td>\n",
       "      <td>...</td>\n",
       "      <td>2.0</td>\n",
       "      <td>2.0</td>\n",
       "      <td>2.0</td>\n",
       "      <td>Vespertilionidae</td>\n",
       "      <td>background cluttered</td>\n",
       "      <td>active</td>\n",
       "      <td>aerial</td>\n",
       "      <td>insectivore</td>\n",
       "      <td>Myotis</td>\n",
       "      <td>Myotis californicus</td>\n",
       "    </tr>\n",
       "  </tbody>\n",
       "</table>\n",
       "<p>10 rows × 23 columns</p>\n",
       "</div>"
      ],
      "text/plain": [
       "   id  recording                  type  \\\n",
       "0   1          1  LineStringAnnotation   \n",
       "1   2          1  LineStringAnnotation   \n",
       "2   3          1  LineStringAnnotation   \n",
       "3   4          1  LineStringAnnotation   \n",
       "4   5          1  LineStringAnnotation   \n",
       "5   6          1  LineStringAnnotation   \n",
       "6   7          1  LineStringAnnotation   \n",
       "7   8          1  LineStringAnnotation   \n",
       "8   9          1  LineStringAnnotation   \n",
       "9  10          1  LineStringAnnotation   \n",
       "\n",
       "                                            metadata  start_time  end_time  \\\n",
       "0  {'actDate': '01-12-2018,00:49:30', 'author': '...    1.097331  1.100885   \n",
       "1  {'actDate': '01-12-2018,00:43:40', 'author': '...    0.216231  0.219603   \n",
       "2  {'actDate': '01-12-2018,00:45:45', 'author': '...    0.680178  0.683607   \n",
       "3  {'actDate': '01-12-2018,00:44:44', 'author': '...    0.317409  0.320667   \n",
       "4  {'actDate': '01-12-2018,00:44:24', 'author': '...    0.005893  0.008606   \n",
       "5  {'actDate': '01-12-2018,00:44:03', 'author': '...    0.093439  0.096467   \n",
       "6  {'actDate': '01-12-2018,00:47:27', 'author': '...    0.928274  0.931572   \n",
       "7  {'actDate': '01-12-2018,00:48:40', 'author': '...    1.000732  1.004110   \n",
       "8  {'actDate': '01-12-2018,00:45:03', 'author': '...    0.520109  0.522556   \n",
       "9  {'actDate': '01-12-2018,00:46:04', 'author': '...    0.719162  0.722503   \n",
       "\n",
       "    max_freq   min_freq                                           geometry  \\\n",
       "0  83.463035  40.272374  LINESTRING(1.0973310864708397 83463.0350194552...   \n",
       "1  86.964981  39.105058  LINESTRING(0.2162308619422162 86964.9805447470...   \n",
       "2  81.712062  39.105058  LINESTRING(0.680178045385667 81712.06225680932...   \n",
       "3  81.712062  39.105058  LINESTRING(0.31740897494586856 81712.062256809...   \n",
       "4  88.132296  41.439689  LINESTRING(0.005892688153242415 88132.29571984...   \n",
       "5  87.548638  41.439689  LINESTRING(0.09343909185617098 87548.638132295...   \n",
       "6  81.712062  40.272374  LINESTRING(0.9282737972568676 81712.0622568093...   \n",
       "7  81.128405  40.272374  LINESTRING(1.000732253856316 81128.4046692607,...   \n",
       "8  74.124514  39.688716  LINESTRING(0.5201091326777508 74124.5136186770...   \n",
       "9  85.797665  40.856031  LINESTRING(0.7191622058245645 85797.6653696498...   \n",
       "\n",
       "                                              labels  ...  \\\n",
       "0  [{'key': 'class', 'type': 'taxonomic', 'value'...  ...   \n",
       "1  [{'key': 'class', 'type': 'taxonomic', 'value'...  ...   \n",
       "2  [{'key': 'class', 'type': 'taxonomic', 'value'...  ...   \n",
       "3  [{'key': 'class', 'type': 'taxonomic', 'value'...  ...   \n",
       "4  [{'key': 'class', 'type': 'taxonomic', 'value'...  ...   \n",
       "5  [{'key': 'class', 'type': 'taxonomic', 'value'...  ...   \n",
       "6  [{'key': 'class', 'type': 'taxonomic', 'value'...  ...   \n",
       "7  [{'key': 'class', 'type': 'taxonomic', 'value'...  ...   \n",
       "8  [{'key': 'class', 'type': 'taxonomic', 'value'...  ...   \n",
       "9  [{'key': 'class', 'type': 'taxonomic', 'value'...  ...   \n",
       "\n",
       "  Denzinger_Schnitzler_2013 Kalko_et_al_1996  Fenton_1990            family  \\\n",
       "0                       2.0              2.0          2.0  Vespertilionidae   \n",
       "1                       2.0              2.0          2.0  Vespertilionidae   \n",
       "2                       2.0              2.0          2.0  Vespertilionidae   \n",
       "3                       2.0              2.0          2.0  Vespertilionidae   \n",
       "4                       2.0              2.0          2.0  Vespertilionidae   \n",
       "5                       2.0              2.0          2.0  Vespertilionidae   \n",
       "6                       2.0              2.0          2.0  Vespertilionidae   \n",
       "7                       2.0              2.0          2.0  Vespertilionidae   \n",
       "8                       2.0              2.0          2.0  Vespertilionidae   \n",
       "9                       2.0              2.0          2.0  Vespertilionidae   \n",
       "\n",
       "      habitat_structure  perception resource_behaviour         diet   genus  \\\n",
       "0  background cluttered      active             aerial  insectivore  Myotis   \n",
       "1  background cluttered      active             aerial  insectivore  Myotis   \n",
       "2  background cluttered      active             aerial  insectivore  Myotis   \n",
       "3  background cluttered      active             aerial  insectivore  Myotis   \n",
       "4  background cluttered      active             aerial  insectivore  Myotis   \n",
       "5  background cluttered      active             aerial  insectivore  Myotis   \n",
       "6  background cluttered      active             aerial  insectivore  Myotis   \n",
       "7  background cluttered      active             aerial  insectivore  Myotis   \n",
       "8  background cluttered      active             aerial  insectivore  Myotis   \n",
       "9  background cluttered      active             aerial  insectivore  Myotis   \n",
       "\n",
       "               species  \n",
       "0  Myotis californicus  \n",
       "1  Myotis californicus  \n",
       "2  Myotis californicus  \n",
       "3  Myotis californicus  \n",
       "4  Myotis californicus  \n",
       "5  Myotis californicus  \n",
       "6  Myotis californicus  \n",
       "7  Myotis californicus  \n",
       "8  Myotis californicus  \n",
       "9  Myotis californicus  \n",
       "\n",
       "[10 rows x 23 columns]"
      ]
     },
     "execution_count": 8,
     "metadata": {},
     "output_type": "execute_result"
    }
   ],
   "source": [
    "ann"
   ]
  },
  {
   "cell_type": "code",
   "execution_count": null,
   "metadata": {},
   "outputs": [],
   "source": []
  }
 ],
 "metadata": {
  "kernelspec": {
   "display_name": "yunyu",
   "language": "python",
   "name": "yunyu"
  },
  "language_info": {
   "codemirror_mode": {
    "name": "ipython",
    "version": 3
   },
   "file_extension": ".py",
   "mimetype": "text/x-python",
   "name": "python",
   "nbconvert_exporter": "python",
   "pygments_lexer": "ipython3",
   "version": "3.7.4"
  }
 },
 "nbformat": 4,
 "nbformat_minor": 4
}
